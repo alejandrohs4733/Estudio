{
  "nbformat": 4,
  "nbformat_minor": 0,
  "metadata": {
    "colab": {
      "provenance": [],
      "authorship_tag": "ABX9TyOGDuKq7a9GeRdD6H2sCIPJ",
      "include_colab_link": true
    },
    "kernelspec": {
      "name": "python3",
      "display_name": "Python 3"
    },
    "language_info": {
      "name": "python"
    }
  },
  "cells": [
    {
      "cell_type": "markdown",
      "metadata": {
        "id": "view-in-github",
        "colab_type": "text"
      },
      "source": [
        "<a href=\"https://colab.research.google.com/github/alejandrohs4733/Estudio/blob/main/Red%20neuronal.ipynb\" target=\"_parent\"><img src=\"https://colab.research.google.com/assets/colab-badge.svg\" alt=\"Open In Colab\"/></a>"
      ]
    },
    {
      "cell_type": "code",
      "execution_count": null,
      "metadata": {
        "id": "OlA2jSZz6qf8"
      },
      "outputs": [],
      "source": [
        "import pandas as pd\n",
        "import numpy as np\n",
        "import zipfile\n",
        "import requests\n",
        "import io\n",
        "from sklearn.model_selection import train_test_split\n",
        "from sklearn.preprocessing import StandardScaler\n",
        "from tensorflow.keras.models import Sequential\n",
        "from tensorflow.keras.layers import Dense\n",
        "import matplotlib.pyplot as plt\n",
        "from tensorflow.keras.layers import Dense, Dropout\n",
        "\n",
        "# Cargar los datos\n",
        "url = \"http://archive.ics.uci.edu/static/public/262/turkiye+student+evaluation.zip\"\n",
        "almacenamiento = requests.get(url)\n",
        "\n",
        "# Verificar descarga\n",
        "if almacenamiento.status_code == 200:\n",
        "    # Abriendo el archivo .zip desde la respuesta\n",
        "    with zipfile.ZipFile(io.BytesIO(almacenamiento.content)) as archivo_zip:\n",
        "        # Listando archivos\n",
        "        print(\"Archivos en el ZIP:\", archivo_zip.namelist())\n",
        "\n",
        "        # Extrayendo archivo\n",
        "        nombre_csv = archivo_zip.namelist()[0]  # Primer archivo\n",
        "        with archivo_zip.open(nombre_csv) as archivo_csv:\n",
        "            # Cargar .csv en dataframe pandas\n",
        "            df = pd.read_csv(archivo_csv, sep=',')\n",
        "            print(df.head())  # Primeras filas del dataframe\n",
        "else:\n",
        "    print(\"Error en la descarga\", almacenamiento.status_code)\n",
        "\n",
        "data = df\n",
        "\n",
        "# Preprocesamiento de datos\n",
        "X = data.drop(columns=['Q28'])\n",
        "y = data['Q28']\n",
        "\n",
        "scaler = StandardScaler()\n",
        "X_scaled = scaler.fit_transform(X)\n",
        "\n",
        "X_train, X_test, y_train, y_test = train_test_split(X_scaled, y, test_size=0.2)\n",
        "\n",
        "# Construcción de la red neuronal\n",
        "model = Sequential()\n",
        "model.add(Dense(16, input_dim=X_train.shape[1], activation='relu'))\n",
        "model.add(Dense(8, activation='relu'))\n",
        "model.add(Dense(1, activation='linear'))\n",
        "\n",
        "# Compilación del modelo\n",
        "model.compile(loss='mean_squared_error', optimizer='adam', metrics=['mean_absolute_error'])\n",
        "\n",
        "# Entrenamiento del modelo\n",
        "history = model.fit(X_train, y_train, epochs=100, batch_size=10, validation_split=0.2)\n",
        "\n",
        "# Evaluación del modelo\n",
        "loss, accuracy = model.evaluate(X_test, y_test)\n",
        "print(f'Pérdida: {loss:.4f}, Precisión: {accuracy:.4f}')\n",
        "\n"
      ]
    },
    {
      "cell_type": "code",
      "source": [
        "plt.figure(figsize=(12, 4))\n",
        "\n",
        "# Gráfico de la pérdida durante el entrenamiento\n",
        "plt.subplot(1, 2, 1)\n",
        "plt.plot(history.history['loss'], label='Pérdida de entrenamiento')\n",
        "plt.plot(history.history['val_loss'], label='Pérdida de validación')\n",
        "plt.xlabel('Épocas')\n",
        "plt.ylabel('Pérdida')\n",
        "plt.legend()\n",
        "plt.title('Pérdida durante el entrenamiento')\n",
        "\n",
        "# Gráfico de MAE (Mean Absolute Error) durante el entrenamiento\n",
        "plt.subplot(1, 2, 2)\n",
        "plt.plot(history.history['mean_absolute_error'], label='MAE de entrenamiento')\n",
        "plt.plot(history.history['val_mean_absolute_error'], label='MAE de validación')\n",
        "plt.xlabel('Épocas')\n",
        "plt.ylabel('MAE')\n",
        "plt.legend()\n",
        "plt.title('MAE durante el entrenamiento')\n",
        "\n",
        "plt.show()\n"
      ],
      "metadata": {
        "id": "mOwspHG86s-A"
      },
      "execution_count": null,
      "outputs": []
    },
    {
      "cell_type": "code",
      "source": [
        "from sklearn.metrics import mean_squared_error, r2_score\n",
        "\n",
        "predictions = model.predict(X_test)\n",
        "\n",
        "mse = mean_squared_error(y_test, predictions)\n",
        "print(f'Error Cuadratico Medio: {mse}')\n",
        "\n",
        "r2 = r2_score(y_test, predictions)\n",
        "print(f'Coeficiente de Determinacion: {r2}')\n"
      ],
      "metadata": {
        "id": "F1M65wNJ6vbX"
      },
      "execution_count": null,
      "outputs": []
    }
  ]
}